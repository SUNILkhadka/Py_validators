{
 "cells": [
  {
   "cell_type": "markdown",
   "id": "d5e4e4d7",
   "metadata": {},
   "source": [
    "# A Simpler Approach"
   ]
  },
  {
   "cell_type": "code",
   "execution_count": 1,
   "id": "86deec4f",
   "metadata": {
    "scrolled": true
   },
   "outputs": [
    {
     "name": "stdout",
     "output_type": "stream",
     "text": [
      "Found in ' 2 ' sentence\n"
     ]
    },
    {
     "data": {
      "text/plain": [
       "{'1': 'A risk management.',\n",
       " '2': 'In recent risk years there has been an Accident .\\n'}"
      ]
     },
     "execution_count": 1,
     "metadata": {},
     "output_type": "execute_result"
    }
   ],
   "source": [
    "def search(text,keyword):\n",
    "    count = 1\n",
    "    result = {}\n",
    "    for x in text:\n",
    "        if x.find(keyword) > 0:\n",
    "            result[str(count)] = x\n",
    "            count+=1\n",
    "    if count == 1:\n",
    "        print('Not Found')\n",
    "        return None\n",
    "    else:\n",
    "        print(\"Found in '\",count-1,\"' sentence\")\n",
    "        return result\n",
    "        \n",
    "txt = ['A risk management.', 'In recent risk years there has been an Accident .\\n', 'This is best accomplished.\\n']\n",
    "search(txt,'risk')"
   ]
  },
  {
   "cell_type": "markdown",
   "id": "77f305b1",
   "metadata": {},
   "source": [
    "# A Tuned Approach"
   ]
  },
  {
   "cell_type": "code",
   "execution_count": 43,
   "id": "58264c61-4162-4cdf-a444-33066ac13bf1",
   "metadata": {},
   "outputs": [],
   "source": [
    "text = '''\n",
    "    A risk management plan is a key component of a success project. \n",
    "    In the early days of program management aspects such as cost, and schedule were often favored for making decisions because teams understood schedule and cost (Kerzner, 2017). \n",
    "    In recent years there has been an increase focus on risk management due to the rapidly changing business environment and the dangers that unmanaged risks can pose to projects.\n",
    "    Companies that make risk management an integral part of their program management theology are taking steps to prevent setbacks, schedule slips, and budget over runs. \n",
    "    This is best accomplished by developing a robust systematic process for identifying, analyzing, planning, monitoring, and closure of project risks. \n",
    "    This systematic approach puts business in a position to be proactive about uncertainty instead of reactive which ultimately sets the team up for success.\n",
    "    Risk management may cost projects budget and time up front but can save much more in the long run.\n",
    "    Risk is is defined as the uncertainty that an event or condition may occur and will have an impact on one or more of the project objectives; scope, schedule, cost, or quality (Soliman, 2018).\n",
    "    Risk management is becoming more important as companies launch larger, more complex projects that have aggressive schedules, budgets, and commitments to stay competitive in the dynamic business environment. \n",
    "    Risk is inherent to any project which can be influence by internal and external sources that may not be within the teams control. When teams attempt to manage risk, it is critical to, when possible, manage the source of the risk instead of the risk itself. \n",
    "    A detailed understanding of root cause is crucial before teams move forward with resolution. \n",
    "    Addressing a risk source gives the team the power to solve the root of the risk which may address more than one risk at a time (Tiendung et al, 2009). \n",
    "    Without fully addressing the root cause there is a risk that the solution will not fully address the risk or that the solution may create risk in the process. In physics there is a reaction for every action. \n",
    "    This is no different in project management which is why it is important to have a proper action to ensure the reaction is positive. \n",
    "    Organizations who understand this and take the time to develop and utilize robust risk management processes have a much higher chance for successfully completing a project on time and on budget (Baharuddin & Yusof, 2018). \n",
    "    Without a process for risk management companies are putting themselves at risk for failure.\n",
    "'''"
   ]
  },
  {
   "cell_type": "code",
   "execution_count": 44,
   "id": "176a4ca7-a820-4961-abdb-24b706263c29",
   "metadata": {},
   "outputs": [],
   "source": [
    "def search(**kwargs):\n",
    "    text = ' '\n",
    "    count = 0\n",
    "    result = []\n",
    "    for key,value in kwargs.items():\n",
    "        if key == 'txt_list':\n",
    "            text = text.join(value)\n",
    "        elif key == 'string':\n",
    "            text = value\n",
    "        if key == 'search_keyword':\n",
    "            keyword = value\n",
    "        \n",
    "    try:\n",
    "        for x in text.split('.'):\n",
    "            tx = x.strip(\" \\n\")\n",
    "            if (tx.lower()).find(keyword.lower()) > 0:\n",
    "                result.append(tx+'.\\n')\n",
    "                count+=1\n",
    "        print(result)\n",
    "        if count == 0:\n",
    "            print('Not Found')\n",
    "        else:\n",
    "            print(\"Found in '\",count,\"' sentence\")\n",
    "            \n",
    "    except:\n",
    "        print(\"Sentence not Found !!!.\")"
   ]
  },
  {
   "cell_type": "code",
   "execution_count": 45,
   "id": "c321b1d3-8cf1-4b9f-a74f-79d6e71977c0",
   "metadata": {
    "scrolled": true
   },
   "outputs": [
    {
     "name": "stdout",
     "output_type": "stream",
     "text": [
      "['A risk management plan is a key component of a success project.\\n', 'In recent years there has been an increase focus on risk management due to the rapidly changing business environment and the dangers that unmanaged risks can pose to projects.\\n', 'This is best accomplished by developing a robust systematic process for identifying, analyzing, planning, monitoring, and closure of project risks.\\n', 'Risk management may cost projects budget and time up front but can save much more in the long run.\\n', 'Risk is is defined as the uncertainty that an event or condition may occur and will have an impact on one or more of the project objectives; scope, schedule, cost, or quality (Soliman, 2018).\\n', 'Risk management is becoming more important as companies launch larger, more complex projects that have aggressive schedules, budgets, and commitments to stay competitive in the dynamic business environment.\\n', 'Risk is inherent to any project which can be influence by internal and external sources that may not be within the teams control.\\n', 'This is no different in project management which is why it is important to have a proper action to ensure the reaction is positive.\\n', 'Organizations who understand this and take the time to develop and utilize robust risk management processes have a much higher chance for successfully completing a project on time and on budget (Baharuddin & Yusof, 2018).\\n']\n",
      "Found in ' 9 ' sentence\n"
     ]
    }
   ],
   "source": [
    "search(string=text,search_keyword='project')"
   ]
  },
  {
   "cell_type": "code",
   "execution_count": 46,
   "id": "6c361f44",
   "metadata": {
    "scrolled": true
   },
   "outputs": [
    {
     "name": "stdout",
     "output_type": "stream",
     "text": [
      "['A risk management.\\n', 'In recent years Risk there has been an Accident.\\n']\n",
      "Found in ' 2 ' sentence\n"
     ]
    }
   ],
   "source": [
    "txt = ['A risk management.', 'In recent years Risk there has been an Accident .\\n', 'This is best accomplished.\\n']\n",
    "search(\n",
    "    txt_list=txt,\n",
    "    search_keyword='risk'\n",
    ")"
   ]
  },
  {
   "cell_type": "code",
   "execution_count": 47,
   "id": "f0fa55b0-9c25-45a3-9b25-a8a59cd5bd68",
   "metadata": {},
   "outputs": [
    {
     "name": "stdout",
     "output_type": "stream",
     "text": [
      "Requirement already satisfied: jovian in /opt/conda/lib/python3.9/site-packages (0.2.41)\n",
      "Requirement already satisfied: click in /opt/conda/lib/python3.9/site-packages (from jovian) (8.0.1)\n",
      "Requirement already satisfied: uuid in /opt/conda/lib/python3.9/site-packages (from jovian) (1.30)\n",
      "Requirement already satisfied: requests in /opt/conda/lib/python3.9/site-packages (from jovian) (2.26.0)\n",
      "Requirement already satisfied: pyyaml in /opt/conda/lib/python3.9/site-packages (from jovian) (5.4.1)\n",
      "Requirement already satisfied: charset-normalizer~=2.0.0 in /opt/conda/lib/python3.9/site-packages (from requests->jovian) (2.0.0)\n",
      "Requirement already satisfied: idna<4,>=2.5 in /opt/conda/lib/python3.9/site-packages (from requests->jovian) (3.1)\n",
      "Requirement already satisfied: certifi>=2017.4.17 in /opt/conda/lib/python3.9/site-packages (from requests->jovian) (2021.5.30)\n",
      "Requirement already satisfied: urllib3<1.27,>=1.21.1 in /opt/conda/lib/python3.9/site-packages (from requests->jovian) (1.26.7)\n"
     ]
    }
   ],
   "source": [
    "!pip install jovian "
   ]
  },
  {
   "cell_type": "code",
   "execution_count": 48,
   "id": "db02c2b4",
   "metadata": {},
   "outputs": [],
   "source": [
    "import jovian"
   ]
  },
  {
   "cell_type": "code",
   "execution_count": null,
   "id": "1c6c6442",
   "metadata": {},
   "outputs": [
    {
     "data": {
      "application/javascript": [
       "window.require && require([\"base/js/namespace\"],function(Jupyter){Jupyter.notebook.save_checkpoint()})"
      ],
      "text/plain": [
       "<IPython.core.display.Javascript object>"
      ]
     },
     "metadata": {},
     "output_type": "display_data"
    }
   ],
   "source": [
    "jovian.commit(project=\"text_search\")"
   ]
  },
  {
   "cell_type": "code",
   "execution_count": 10,
   "id": "a889d538-915a-40b4-86eb-2ef75fc45fc3",
   "metadata": {},
   "outputs": [
    {
     "name": "stdout",
     "output_type": "stream",
     "text": [
      "a\n",
      "risk\n",
      "management\n",
      "plan\n",
      "is\n",
      "a\n",
      "key\n",
      "component\n",
      "of\n",
      "a\n",
      "success\n",
      "project.\n"
     ]
    }
   ],
   "source": [
    "def text_search(texts):\n",
    "    stor = []\n",
    "    for index,text in enumerate(texts):\n",
    "        for word in text.lower().split(' '):\n",
    "            if word in stor:\n",
    "                \n",
    "        \n",
    "     \n",
    "text_search(texts)"
   ]
  },
  {
   "cell_type": "code",
   "execution_count": 6,
   "id": "36197ac3-d467-48bf-b409-bdb3da8a1bfb",
   "metadata": {},
   "outputs": [
    {
     "name": "stdout",
     "output_type": "stream",
     "text": [
      "a risk management plan is a key component of a success project.\n",
      "n recent years there has been an increase focus on risk management\n"
     ]
    }
   ],
   "source": []
  },
  {
   "cell_type": "code",
   "execution_count": 2,
   "id": "18ebf162-6e67-4626-a1cb-e90e635b9959",
   "metadata": {},
   "outputs": [],
   "source": [
    "texts = ['A risk management plan is a key component of a success project.','n recent years there has been an increase focus on risk management']"
   ]
  },
  {
   "cell_type": "code",
   "execution_count": null,
   "id": "c6e37f61-cf44-46e2-b0d5-b32517de05fb",
   "metadata": {},
   "outputs": [],
   "source": []
  }
 ],
 "metadata": {
  "kernelspec": {
   "display_name": "Python 3 (ipykernel)",
   "language": "python",
   "name": "python3"
  },
  "language_info": {
   "codemirror_mode": {
    "name": "ipython",
    "version": 3
   },
   "file_extension": ".py",
   "mimetype": "text/x-python",
   "name": "python",
   "nbconvert_exporter": "python",
   "pygments_lexer": "ipython3",
   "version": "3.9.7"
  }
 },
 "nbformat": 4,
 "nbformat_minor": 5
}
