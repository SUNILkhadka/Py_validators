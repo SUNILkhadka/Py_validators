{
 "cells": [
  {
   "cell_type": "code",
   "execution_count": 34,
   "id": "58264c61-4162-4cdf-a444-33066ac13bf1",
   "metadata": {},
   "outputs": [],
   "source": [
    "text = '''\n",
    "    A risk management plan is a key component of a success project. \n",
    "    In the early days of program management aspects such as cost, and schedule were often favored for making decisions because teams understood schedule and cost (Kerzner, 2017). \n",
    "    In recent years there has been an increase focus on risk management due to the rapidly changing business environment and the dangers that unmanaged risks can pose to projects.\n",
    "    Companies that make risk management an integral part of their program management theology are taking steps to prevent setbacks, schedule slips, and budget over runs. \n",
    "    This is best accomplished by developing a robust systematic process for identifying, analyzing, planning, monitoring, and closure of project risks. \n",
    "    This systematic approach puts business in a position to be proactive about uncertainty instead of reactive which ultimately sets the team up for success.\n",
    "    Risk management may cost projects budget and time up front but can save much more in the long run.\n",
    "    Risk is is defined as the uncertainty that an event or condition may occur and will have an impact on one or more of the project objectives; scope, schedule, cost, or quality (Soliman, 2018).\n",
    "    Risk management is becoming more important as companies launch larger, more complex projects that have aggressive schedules, budgets, and commitments to stay competitive in the dynamic business environment. \n",
    "    Risk is inherent to any project which can be influence by internal and external sources that may not be within the teams control. When teams attempt to manage risk, it is critical to, when possible, manage the source of the risk instead of the risk itself. \n",
    "    A detailed understanding of root cause is crucial before teams move forward with resolution. \n",
    "    Addressing a risk source gives the team the power to solve the root of the risk which may address more than one risk at a time (Tiendung et al, 2009). \n",
    "    Without fully addressing the root cause there is a risk that the solution will not fully address the risk or that the solution may create risk in the process. In physics there is a reaction for every action. \n",
    "    This is no different in project management which is why it is important to have a proper action to ensure the reaction is positive. \n",
    "    Organizations who understand this and take the time to develop and utilize robust risk management processes have a much higher chance for successfully completing a project on time and on budget (Baharuddin & Yusof, 2018). \n",
    "    Without a process for risk management companies are putting themselves at risk for failure.\n",
    "'''"
   ]
  },
  {
   "cell_type": "code",
   "execution_count": 35,
   "id": "40f875df-f0b1-4f69-8dab-48d6d9640bbb",
   "metadata": {},
   "outputs": [],
   "source": [
    "search = 'risk'"
   ]
  },
  {
   "cell_type": "code",
   "execution_count": 38,
   "id": "9efce2fc-583f-4b6d-9244-a3beb78ec7b6",
   "metadata": {},
   "outputs": [
    {
     "name": "stdout",
     "output_type": "stream",
     "text": [
      "A risk management plan is a key component of a success project .\n",
      "\n",
      "In recent years there has been an increase focus on risk management due to the rapidly changing business environment and the dangers that unmanaged risks can pose to projects .\n",
      "\n",
      "Companies that make risk management an integral part of their program management theology are taking steps to prevent setbacks, schedule slips, and budget over runs .\n",
      "\n",
      "This is best accomplished by developing a robust systematic process for identifying, analyzing, planning, monitoring, and closure of project risks .\n",
      "\n",
      "When teams attempt to manage risk, it is critical to, when possible, manage the source of the risk instead of the risk itself .\n",
      "\n",
      "Addressing a risk source gives the team the power to solve the root of the risk which may address more than one risk at a time (Tiendung et al, 2009) .\n",
      "\n",
      "Without fully addressing the root cause there is a risk that the solution will not fully address the risk or that the solution may create risk in the process .\n",
      "\n",
      "Organizations who understand this and take the time to develop and utilize robust risk management processes have a much higher chance for successfully completing a project on time and on budget (Baharuddin & Yusof, 2018) .\n",
      "\n",
      "Without a process for risk management companies are putting themselves at risk for failure .\n",
      "\n"
     ]
    }
   ],
   "source": [
    "txt_list = []\n",
    "for  x in text.split('.'):\n",
    "    tx = x.strip(\" \\n\")\n",
    "    if tx.find(search) > 0:\n",
    "        print(tx,'.\\n')"
   ]
  },
  {
   "cell_type": "code",
   "execution_count": 52,
   "id": "176a4ca7-a820-4961-abdb-24b706263c29",
   "metadata": {},
   "outputs": [],
   "source": [
    "def search(**kwargs):\n",
    "    text = str\n",
    "    for key,value in kwargs.items():\n",
    "        if key == 'list':\n",
    "            for y in value:\n",
    "                text.join(y)\n",
    "        elif key == 'string':\n",
    "            text = value\n",
    "        if key == 'search_keyword':\n",
    "                keyword = value\n",
    "        \n",
    "    try:\n",
    "        for x in text.split('.'):\n",
    "            tx = x.strip(\" \\n\")\n",
    "            if tx.find(search) > 0:\n",
    "                print(\"Found on: \\n\")\n",
    "                print(tx,'.\\n')\n",
    "            else:\n",
    "                print(\"Not Found\")\n",
    "    except:\n",
    "        print(\"Its not a text.\")"
   ]
  },
  {
   "cell_type": "code",
   "execution_count": 55,
   "id": "c321b1d3-8cf1-4b9f-a74f-79d6e71977c0",
   "metadata": {},
   "outputs": [
    {
     "name": "stdout",
     "output_type": "stream",
     "text": [
      "Its not a text.\n"
     ]
    }
   ],
   "source": [
    "search(string=text,search_keyword='project')"
   ]
  },
  {
   "cell_type": "code",
   "execution_count": 18,
   "id": "ed269883-8ba6-4cf1-b186-b439cbb7cfbd",
   "metadata": {},
   "outputs": [],
   "source": [
    "tx = \"  In the early days of program management aspects such as cost, and schedule were often favored for making decisions because teams understood schedule and cost (Kerzner, 2017)'\""
   ]
  },
  {
   "cell_type": "code",
   "execution_count": 27,
   "id": "a1626575-352a-407d-983d-eab1ce50edfb",
   "metadata": {},
   "outputs": [
    {
     "data": {
      "text/plain": [
       "\"In the early days of program management aspects such as cost, and schedule were often favored for making decisions because teams understood schedule and cost (Kerzner, 2017)'\""
      ]
     },
     "execution_count": 27,
     "metadata": {},
     "output_type": "execute_result"
    }
   ],
   "source": [
    "tx.strip(\" \\n\")"
   ]
  },
  {
   "cell_type": "code",
   "execution_count": 46,
   "id": "65c204fb-f513-4127-81b9-4dbaf53969d9",
   "metadata": {},
   "outputs": [],
   "source": [
    "def sch(**kwargs):\n",
    "    for key,value in kwargs.items():\n",
    "        print(key,value)"
   ]
  },
  {
   "cell_type": "code",
   "execution_count": 47,
   "id": "f3cced62-7e3a-4695-99ff-569a5ad875d4",
   "metadata": {},
   "outputs": [
    {
     "name": "stdout",
     "output_type": "stream",
     "text": [
      "arg1 sunil\n",
      "arg2 23\n"
     ]
    }
   ],
   "source": [
    "sch(arg1=\"sunil\",arg2='23')"
   ]
  },
  {
   "cell_type": "code",
   "execution_count": 49,
   "id": "263ffa99-366d-4561-b1ba-19ecce224e59",
   "metadata": {},
   "outputs": [
    {
     "data": {
      "text/plain": [
       "['hello everyone']"
      ]
     },
     "execution_count": 49,
     "metadata": {},
     "output_type": "execute_result"
    }
   ],
   "source": [
    "text = 'hello everyone'\n",
    "text.split('.')"
   ]
  },
  {
   "cell_type": "code",
   "execution_count": null,
   "id": "f0fa55b0-9c25-45a3-9b25-a8a59cd5bd68",
   "metadata": {},
   "outputs": [],
   "source": []
  }
 ],
 "metadata": {
  "kernelspec": {
   "display_name": "Python 3 (ipykernel)",
   "language": "python",
   "name": "python3"
  },
  "language_info": {
   "codemirror_mode": {
    "name": "ipython",
    "version": 3
   },
   "file_extension": ".py",
   "mimetype": "text/x-python",
   "name": "python",
   "nbconvert_exporter": "python",
   "pygments_lexer": "ipython3",
   "version": "3.9.7"
  }
 },
 "nbformat": 4,
 "nbformat_minor": 5
}
